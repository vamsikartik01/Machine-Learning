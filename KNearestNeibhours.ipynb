{
  "nbformat": 4,
  "nbformat_minor": 0,
  "metadata": {
    "colab": {
      "name": "KNearestNeibhours.ipynb",
      "provenance": [],
      "collapsed_sections": [],
      "mount_file_id": "1PqNzkeJCETMFIy6Cm_V6_plfNO_KZYiw",
      "authorship_tag": "ABX9TyNIq7EHSeQgqqOFlZilcKYi",
      "include_colab_link": true
    },
    "kernelspec": {
      "name": "python3",
      "display_name": "Python 3"
    }
  },
  "cells": [
    {
      "cell_type": "markdown",
      "metadata": {
        "id": "view-in-github",
        "colab_type": "text"
      },
      "source": [
        "<a href=\"https://colab.research.google.com/github/vamsikartik01/Machine-Learning/blob/main/KNearestNeibhours.ipynb\" target=\"_parent\"><img src=\"https://colab.research.google.com/assets/colab-badge.svg\" alt=\"Open In Colab\"/></a>"
      ]
    },
    {
      "cell_type": "code",
      "metadata": {
        "id": "bUbCZ5lq-xYX"
      },
      "source": [
        "import pandas as pd\n",
        "import seaborn as sns\n",
        "import matplotlib.pyplot as plt\n",
        "import numpy as np"
      ],
      "execution_count": null,
      "outputs": []
    },
    {
      "cell_type": "code",
      "metadata": {
        "id": "A955F_Lc_B70",
        "colab": {
          "base_uri": "https://localhost:8080/",
          "height": 35
        },
        "outputId": "051e86a8-8f2e-4748-f260-650ccb28d120"
      },
      "source": [
        "pwd"
      ],
      "execution_count": null,
      "outputs": [
        {
          "output_type": "execute_result",
          "data": {
            "application/vnd.google.colaboratory.intrinsic+json": {
              "type": "string"
            },
            "text/plain": [
              "'/content'"
            ]
          },
          "metadata": {
            "tags": []
          },
          "execution_count": 2
        }
      ]
    },
    {
      "cell_type": "code",
      "metadata": {
        "id": "86epn785_Piq",
        "colab": {
          "base_uri": "https://localhost:8080/"
        },
        "outputId": "16ac7d1c-02b6-4eca-d87d-6217735cc00e"
      },
      "source": [
        "cd drive/My Drive/Datasets"
      ],
      "execution_count": null,
      "outputs": [
        {
          "output_type": "stream",
          "text": [
            "/content/drive/My Drive/Datasets\n"
          ],
          "name": "stdout"
        }
      ]
    },
    {
      "cell_type": "code",
      "metadata": {
        "id": "uPLDgSnV_cM6",
        "colab": {
          "base_uri": "https://localhost:8080/",
          "height": 35
        },
        "outputId": "3237fc6a-32bf-4d42-8ede-5850fdb2b367"
      },
      "source": [
        "pwd"
      ],
      "execution_count": null,
      "outputs": [
        {
          "output_type": "execute_result",
          "data": {
            "application/vnd.google.colaboratory.intrinsic+json": {
              "type": "string"
            },
            "text/plain": [
              "'/content/drive/My Drive/Datasets'"
            ]
          },
          "metadata": {
            "tags": []
          },
          "execution_count": 6
        }
      ]
    },
    {
      "cell_type": "code",
      "metadata": {
        "id": "T6zk7lCP_dP8"
      },
      "source": [
        "file_name = \"fruit_data_with_colors.txt\""
      ],
      "execution_count": null,
      "outputs": []
    },
    {
      "cell_type": "code",
      "metadata": {
        "id": "ejrT_Q3__oE5"
      },
      "source": [
        "df = pd.read_csv(file_name, sep='\\t')"
      ],
      "execution_count": null,
      "outputs": []
    },
    {
      "cell_type": "code",
      "metadata": {
        "id": "kXyUEKAh_tME",
        "colab": {
          "base_uri": "https://localhost:8080/",
          "height": 359
        },
        "outputId": "a1972640-0d8c-4fa5-f8d0-7926df83bbf6"
      },
      "source": [
        "df.tail(10)"
      ],
      "execution_count": null,
      "outputs": [
        {
          "output_type": "execute_result",
          "data": {
            "text/html": [
              "<div>\n",
              "<style scoped>\n",
              "    .dataframe tbody tr th:only-of-type {\n",
              "        vertical-align: middle;\n",
              "    }\n",
              "\n",
              "    .dataframe tbody tr th {\n",
              "        vertical-align: top;\n",
              "    }\n",
              "\n",
              "    .dataframe thead th {\n",
              "        text-align: right;\n",
              "    }\n",
              "</style>\n",
              "<table border=\"1\" class=\"dataframe\">\n",
              "  <thead>\n",
              "    <tr style=\"text-align: right;\">\n",
              "      <th></th>\n",
              "      <th>fruit_label</th>\n",
              "      <th>fruit_name</th>\n",
              "      <th>mass</th>\n",
              "      <th>width</th>\n",
              "      <th>height</th>\n",
              "      <th>color_score</th>\n",
              "    </tr>\n",
              "  </thead>\n",
              "  <tbody>\n",
              "    <tr>\n",
              "      <th>49</th>\n",
              "      <td>4</td>\n",
              "      <td>lemon</td>\n",
              "      <td>132</td>\n",
              "      <td>5.8</td>\n",
              "      <td>8.7</td>\n",
              "      <td>0.73</td>\n",
              "    </tr>\n",
              "    <tr>\n",
              "      <th>50</th>\n",
              "      <td>4</td>\n",
              "      <td>lemon</td>\n",
              "      <td>130</td>\n",
              "      <td>6.0</td>\n",
              "      <td>8.2</td>\n",
              "      <td>0.71</td>\n",
              "    </tr>\n",
              "    <tr>\n",
              "      <th>51</th>\n",
              "      <td>4</td>\n",
              "      <td>lemon</td>\n",
              "      <td>116</td>\n",
              "      <td>6.0</td>\n",
              "      <td>7.5</td>\n",
              "      <td>0.72</td>\n",
              "    </tr>\n",
              "    <tr>\n",
              "      <th>52</th>\n",
              "      <td>4</td>\n",
              "      <td>lemon</td>\n",
              "      <td>118</td>\n",
              "      <td>5.9</td>\n",
              "      <td>8.0</td>\n",
              "      <td>0.72</td>\n",
              "    </tr>\n",
              "    <tr>\n",
              "      <th>53</th>\n",
              "      <td>4</td>\n",
              "      <td>lemon</td>\n",
              "      <td>120</td>\n",
              "      <td>6.0</td>\n",
              "      <td>8.4</td>\n",
              "      <td>0.74</td>\n",
              "    </tr>\n",
              "    <tr>\n",
              "      <th>54</th>\n",
              "      <td>4</td>\n",
              "      <td>lemon</td>\n",
              "      <td>116</td>\n",
              "      <td>6.1</td>\n",
              "      <td>8.5</td>\n",
              "      <td>0.71</td>\n",
              "    </tr>\n",
              "    <tr>\n",
              "      <th>55</th>\n",
              "      <td>4</td>\n",
              "      <td>lemon</td>\n",
              "      <td>116</td>\n",
              "      <td>6.3</td>\n",
              "      <td>7.7</td>\n",
              "      <td>0.72</td>\n",
              "    </tr>\n",
              "    <tr>\n",
              "      <th>56</th>\n",
              "      <td>4</td>\n",
              "      <td>lemon</td>\n",
              "      <td>116</td>\n",
              "      <td>5.9</td>\n",
              "      <td>8.1</td>\n",
              "      <td>0.73</td>\n",
              "    </tr>\n",
              "    <tr>\n",
              "      <th>57</th>\n",
              "      <td>4</td>\n",
              "      <td>lemon</td>\n",
              "      <td>152</td>\n",
              "      <td>6.5</td>\n",
              "      <td>8.5</td>\n",
              "      <td>0.72</td>\n",
              "    </tr>\n",
              "    <tr>\n",
              "      <th>58</th>\n",
              "      <td>4</td>\n",
              "      <td>lemon</td>\n",
              "      <td>118</td>\n",
              "      <td>6.1</td>\n",
              "      <td>8.1</td>\n",
              "      <td>0.70</td>\n",
              "    </tr>\n",
              "  </tbody>\n",
              "</table>\n",
              "</div>"
            ],
            "text/plain": [
              "    fruit_label fruit_name  mass  width  height  color_score\n",
              "49            4      lemon   132    5.8     8.7         0.73\n",
              "50            4      lemon   130    6.0     8.2         0.71\n",
              "51            4      lemon   116    6.0     7.5         0.72\n",
              "52            4      lemon   118    5.9     8.0         0.72\n",
              "53            4      lemon   120    6.0     8.4         0.74\n",
              "54            4      lemon   116    6.1     8.5         0.71\n",
              "55            4      lemon   116    6.3     7.7         0.72\n",
              "56            4      lemon   116    5.9     8.1         0.73\n",
              "57            4      lemon   152    6.5     8.5         0.72\n",
              "58            4      lemon   118    6.1     8.1         0.70"
            ]
          },
          "metadata": {
            "tags": []
          },
          "execution_count": 67
        }
      ]
    },
    {
      "cell_type": "code",
      "metadata": {
        "id": "upn4MJt6_xbs",
        "colab": {
          "base_uri": "https://localhost:8080/"
        },
        "outputId": "4a7495a7-3ceb-4b0b-c258-a87eb1ea7197"
      },
      "source": [
        "print(df.fruit_label.unique())\n",
        "print(df.fruit_name.unique())"
      ],
      "execution_count": null,
      "outputs": [
        {
          "output_type": "stream",
          "text": [
            "[1 2 3 4]\n",
            "['apple' 'mandarin' 'orange' 'lemon']\n"
          ],
          "name": "stdout"
        }
      ]
    },
    {
      "cell_type": "code",
      "metadata": {
        "id": "EyCtBkEWAIP3",
        "colab": {
          "base_uri": "https://localhost:8080/"
        },
        "outputId": "f3d48efa-95d6-4924-d4af-a69131c391ef"
      },
      "source": [
        "name_pred = dict(zip(df.fruit_label.unique(),df.fruit_name.unique()))\n",
        "\n",
        "print(name_pred[1],name_pred[2],name_pred[3],name_pred[4])\n"
      ],
      "execution_count": null,
      "outputs": [
        {
          "output_type": "stream",
          "text": [
            "apple mandarin orange lemon\n"
          ],
          "name": "stdout"
        }
      ]
    },
    {
      "cell_type": "code",
      "metadata": {
        "id": "eqVn21M2B0PZ",
        "colab": {
          "base_uri": "https://localhost:8080/",
          "height": 920
        },
        "outputId": "6c0dd408-e315-4359-e89a-fba390126a44"
      },
      "source": [
        "sns.pairplot(df, x_vars=['mass','width','height','color_score'])"
      ],
      "execution_count": null,
      "outputs": [
        {
          "output_type": "execute_result",
          "data": {
            "text/plain": [
              "<seaborn.axisgrid.PairGrid at 0x7f2e2e189438>"
            ]
          },
          "metadata": {
            "tags": []
          },
          "execution_count": 23
        },
        {
          "output_type": "display_data",
          "data": {
            "image/png": "[encoded data removed]",
            "text/plain": [
              "<Figure size 720x900 with 24 Axes>"
            ]
          },
          "metadata": {
            "tags": [],
            "needs_background": "light"
          }
        }
      ]
    },
    {
      "cell_type": "code",
      "metadata": {
        "id": "FNP-5pAyEZQ3"
      },
      "source": [
        "df = df.drop('fruit_subtype',axis=1)"
      ],
      "execution_count": null,
      "outputs": []
    },
    {
      "cell_type": "code",
      "metadata": {
        "id": "65neAvazCX-n",
        "colab": {
          "base_uri": "https://localhost:8080/",
          "height": 204
        },
        "outputId": "b8d22536-6df6-434b-c744-d8ea6d480511"
      },
      "source": [
        "from sklearn.preprocessing import StandardScaler\n",
        "\n",
        "scaler = StandardScaler()\n",
        "scaler.fit(df.drop(['fruit_label','fruit_name'], axis=1))\n",
        "df_scd = scaler.transform(df.drop(['fruit_label','fruit_name'],axis=1))\n",
        "\n",
        "df_scaled = pd.DataFrame(df_scd,columns=df.columns[2:])\n",
        "df_scaled.head()"
      ],
      "execution_count": null,
      "outputs": [
        {
          "output_type": "execute_result",
          "data": {
            "text/html": [
              "<div>\n",
              "<style scoped>\n",
              "    .dataframe tbody tr th:only-of-type {\n",
              "        vertical-align: middle;\n",
              "    }\n",
              "\n",
              "    .dataframe tbody tr th {\n",
              "        vertical-align: top;\n",
              "    }\n",
              "\n",
              "    .dataframe thead th {\n",
              "        text-align: right;\n",
              "    }\n",
              "</style>\n",
              "<table border=\"1\" class=\"dataframe\">\n",
              "  <thead>\n",
              "    <tr style=\"text-align: right;\">\n",
              "      <th></th>\n",
              "      <th>mass</th>\n",
              "      <th>width</th>\n",
              "      <th>height</th>\n",
              "      <th>color_score</th>\n",
              "    </tr>\n",
              "  </thead>\n",
              "  <tbody>\n",
              "    <tr>\n",
              "      <th>0</th>\n",
              "      <td>0.529442</td>\n",
              "      <td>1.598690</td>\n",
              "      <td>-0.291397</td>\n",
              "      <td>-2.793595</td>\n",
              "    </tr>\n",
              "    <tr>\n",
              "      <th>1</th>\n",
              "      <td>0.309462</td>\n",
              "      <td>1.104854</td>\n",
              "      <td>-0.661922</td>\n",
              "      <td>-2.268684</td>\n",
              "    </tr>\n",
              "    <tr>\n",
              "      <th>2</th>\n",
              "      <td>0.236136</td>\n",
              "      <td>0.364100</td>\n",
              "      <td>-0.365502</td>\n",
              "      <td>-2.137456</td>\n",
              "    </tr>\n",
              "    <tr>\n",
              "      <th>3</th>\n",
              "      <td>-1.413709</td>\n",
              "      <td>-1.117409</td>\n",
              "      <td>-2.218131</td>\n",
              "      <td>0.487100</td>\n",
              "    </tr>\n",
              "    <tr>\n",
              "      <th>4</th>\n",
              "      <td>-1.450372</td>\n",
              "      <td>-1.364327</td>\n",
              "      <td>-2.292236</td>\n",
              "      <td>0.355872</td>\n",
              "    </tr>\n",
              "  </tbody>\n",
              "</table>\n",
              "</div>"
            ],
            "text/plain": [
              "       mass     width    height  color_score\n",
              "0  0.529442  1.598690 -0.291397    -2.793595\n",
              "1  0.309462  1.104854 -0.661922    -2.268684\n",
              "2  0.236136  0.364100 -0.365502    -2.137456\n",
              "3 -1.413709 -1.117409 -2.218131     0.487100\n",
              "4 -1.450372 -1.364327 -2.292236     0.355872"
            ]
          },
          "metadata": {
            "tags": []
          },
          "execution_count": 33
        }
      ]
    },
    {
      "cell_type": "code",
      "metadata": {
        "id": "RktNMvWpDPtT"
      },
      "source": [
        "from sklearn.model_selection import train_test_split\n",
        "\n",
        "x_train,x_test,y_train,y_test = train_test_split(df_scaled, df.fruit_label,test_size=0.3)"
      ],
      "execution_count": null,
      "outputs": []
    },
    {
      "cell_type": "code",
      "metadata": {
        "id": "T5oiKUSRDa-p",
        "colab": {
          "base_uri": "https://localhost:8080/"
        },
        "outputId": "359a3fa9-49fe-40bc-c444-54a4995c9ecb"
      },
      "source": [
        "print(df_scaled.shape)\n",
        "print(x_train.shape)\n",
        "print(x_test.shape)"
      ],
      "execution_count": null,
      "outputs": [
        {
          "output_type": "stream",
          "text": [
            "(59, 4)\n",
            "(41, 4)\n",
            "(18, 4)\n"
          ],
          "name": "stdout"
        }
      ]
    },
    {
      "cell_type": "code",
      "metadata": {
        "id": "1onkG-tYF8A4"
      },
      "source": [
        "from sklearn.neighbors import KNeighborsClassifier"
      ],
      "execution_count": null,
      "outputs": []
    },
    {
      "cell_type": "code",
      "metadata": {
        "id": "uxZpAGYpGJ9f"
      },
      "source": [
        "KNN = KNeighborsClassifier(n_neighbors=1)\n",
        "KNN.fit(x_train,y_train)\n",
        "preds = KNN.predict(x_test)"
      ],
      "execution_count": null,
      "outputs": []
    },
    {
      "cell_type": "code",
      "metadata": {
        "id": "xMhSwYWdGQF6"
      },
      "source": [
        "from sklearn.metrics import confusion_matrix,classification_report "
      ],
      "execution_count": null,
      "outputs": []
    },
    {
      "cell_type": "code",
      "metadata": {
        "id": "ZR3jD8QpGwUW",
        "colab": {
          "base_uri": "https://localhost:8080/"
        },
        "outputId": "e024b144-4a7d-47eb-e464-d6d80acf89b6"
      },
      "source": [
        "print(confusion_matrix(y_test,preds))\n",
        "print(classification_report(y_test,preds))"
      ],
      "execution_count": null,
      "outputs": [
        {
          "output_type": "stream",
          "text": [
            "[[4 0 0 0]\n",
            " [0 4 0 0]\n",
            " [0 0 5 0]\n",
            " [0 0 0 5]]\n",
            "              precision    recall  f1-score   support\n",
            "\n",
            "           1       1.00      1.00      1.00         4\n",
            "           2       1.00      1.00      1.00         4\n",
            "           3       1.00      1.00      1.00         5\n",
            "           4       1.00      1.00      1.00         5\n",
            "\n",
            "    accuracy                           1.00        18\n",
            "   macro avg       1.00      1.00      1.00        18\n",
            "weighted avg       1.00      1.00      1.00        18\n",
            "\n"
          ],
          "name": "stdout"
        }
      ]
    },
    {
      "cell_type": "code",
      "metadata": {
        "id": "xfBMR61hHFZb"
      },
      "source": [
        "error_rate = []\n",
        "for i in range(1,10):\n",
        "  knn1 = KNeighborsClassifier(n_neighbors=i)\n",
        "  knn1.fit(x_train,y_train)\n",
        "  preds1 = knn1.predict(x_test)\n",
        "  error_rate.append(np.mean(preds1 != y_test))"
      ],
      "execution_count": null,
      "outputs": []
    },
    {
      "cell_type": "code",
      "metadata": {
        "id": "GlGJFOzDHTPQ",
        "colab": {
          "base_uri": "https://localhost:8080/",
          "height": 391
        },
        "outputId": "452fe6b4-559f-406d-a1a4-c4bf0ce3c210"
      },
      "source": [
        "plt.figure(figsize=(10,6))\n",
        "plt.plot(range(1,10),error_rate,color='blue',linestyle='dashed',marker='o',markerfacecolor='red',markersize=10)\n"
      ],
      "execution_count": null,
      "outputs": [
        {
          "output_type": "execute_result",
          "data": {
            "text/plain": [
              "[<matplotlib.lines.Line2D at 0x7f2e253cceb8>]"
            ]
          },
          "metadata": {
            "tags": []
          },
          "execution_count": 55
        },
        {
          "output_type": "display_data",
          "data": {
            "image/png": "[encoded data removed]",
            "text/plain": [
              "<Figure size 720x432 with 1 Axes>"
            ]
          },
          "metadata": {
            "tags": [],
            "needs_background": "light"
          }
        }
      ]
    },
    {
      "cell_type": "code",
      "metadata": {
        "id": "ZJCvlTJaIgEw",
        "colab": {
          "base_uri": "https://localhost:8080/"
        },
        "outputId": "a1435280-81ed-4bf8-9d8f-e26f7760154c"
      },
      "source": [
        "from sklearn.metrics import accuracy_score\n",
        "\n",
        "print(\"AccuracyScore: \",accuracy_score(y_test, preds))"
      ],
      "execution_count": null,
      "outputs": [
        {
          "output_type": "stream",
          "text": [
            "AccuracyScore:  1.0\n"
          ],
          "name": "stdout"
        }
      ]
    },
    {
      "cell_type": "code",
      "metadata": {
        "id": "1WUV0FsKJNAX",
        "colab": {
          "base_uri": "https://localhost:8080/"
        },
        "outputId": "cbe76c5a-24fc-41a8-ba25-826443b4cedf"
      },
      "source": [
        "#prediction 1\n",
        "massp = input(\"enter the mass:\")\n",
        "widthp = input(\"enter the width:\")\n",
        "heightp = input(\"enter the height:\")\n",
        "color_scorep = input(\"enter the color_score:\")\n",
        "arr = [[massp, widthp, heightp, color_scorep]]\n",
        "arr_s = scaler.transform(arr)\n",
        "predp = KNN.predict(arr_s)\n",
        "print(name_pred[predp[0]])"
      ],
      "execution_count": null,
      "outputs": [
        {
          "output_type": "stream",
          "text": [
            "enter the mass:116\n",
            "enter the width:6\n",
            "enter the height:7.5\n",
            "enter the color_score:0.72\n",
            "lemon\n"
          ],
          "name": "stdout"
        }
      ]
    },
    {
      "cell_type": "code",
      "metadata": {
        "id": "rOeN-jIyKxVQ"
      },
      "source": [
        ""
      ],
      "execution_count": null,
      "outputs": []
    }
  ]
}